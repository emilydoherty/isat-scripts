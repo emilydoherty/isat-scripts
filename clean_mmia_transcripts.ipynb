{
 "cells": [
  {
   "cell_type": "code",
   "execution_count": 17,
   "metadata": {},
   "outputs": [],
   "source": [
    "#cleaning up mmia transcripts \n",
    "# 3/12/24 Emily Doherty\n",
    "import pandas as pd\n",
    "import os\n",
    "from datetime import datetime, timedelta\n",
    "\n",
    "####NOTES\n",
    "#Need MMIA recordings for 105 + 113"
   ]
  },
  {
   "cell_type": "code",
   "execution_count": 18,
   "metadata": {},
   "outputs": [],
   "source": [
    "def convert_to_time_format(timestamp_str):\n",
    "    try:\n",
    "        # Try parsing timestamp with milliseconds and 'Z' suffix\n",
    "        timestamp_obj = datetime.strptime(timestamp_str, '%Y-%m-%dT%H:%M:%S.%fZ')\n",
    "    except ValueError:\n",
    "        try:\n",
    "            # Try parsing timestamp without milliseconds and with 'Z' suffix\n",
    "            timestamp_obj = datetime.strptime(timestamp_str, '%Y-%m-%dT%H:%M:%SZ')\n",
    "        except ValueError:\n",
    "            try:\n",
    "                # Try parsing timestamp without milliseconds and without 'Z' suffix\n",
    "                timestamp_obj = datetime.strptime(timestamp_str, '%Y-%m-%d %H:%M:%S.%f')\n",
    "            except ValueError:\n",
    "                try:\n",
    "                    # Try parsing timestamp without milliseconds and without 'Z' suffix\n",
    "                    timestamp_obj = datetime.strptime(timestamp_str, '%Y-%m-%d %H:%M:%S')\n",
    "                except ValueError:\n",
    "                    raise ValueError(\"Timestamp format not supported\")\n",
    "    timestamp_obj -= timedelta(hours=7) ###Because mmia server is ahead 5 hours?\n",
    "    # Format the datetime object to display only the time in HH:MM format\n",
    "    time_format = timestamp_obj.strftime('%-I:%M %p')  # '%-I' removes leading zero for hour\n",
    "    \n",
    "    return time_format"
   ]
  },
  {
   "cell_type": "markdown",
   "metadata": {},
   "source": [
    "## Import timestamps of Knowledge Sharing and Brainstorming\n"
   ]
  },
  {
   "cell_type": "code",
   "execution_count": 19,
   "metadata": {},
   "outputs": [],
   "source": [
    "#import recordingID info\n",
    "mmiaID=pd.read_excel('/Users/emilydoherty/Desktop/JIA/JIA_recordingIDs.xlsx')\n",
    "\n",
    "#import KS/BS timestamps\n",
    "file_path='/Users/emilydoherty/Downloads/JIA_Transcripts_Tracker start_stop times - Tracker.csv'\n",
    "tracker=pd.read_csv(file_path)\n",
    "tracker.dropna(axis=1, how='all', inplace=True)\n",
    "tracker = tracker.drop(tracker.index[0])\n",
    "tracker = tracker.iloc[:, :-5]\n",
    "tracker.drop(tracker.columns[1:5], axis=1, inplace=True)\n",
    "tracker = tracker.rename(columns={tracker.columns[0]: 'Session_ID'})\n",
    "tracker = tracker.rename(columns={tracker.columns[1]: 'KS_START'})\n",
    "tracker = tracker.rename(columns={tracker.columns[2]: 'KS_END'})\n",
    "tracker = tracker.rename(columns={tracker.columns[3]: 'BS_START'})\n",
    "tracker = tracker.rename(columns={tracker.columns[4]: 'BS_END'})\n",
    "tracker['Session_ID']=tracker['Session_ID'].astype('int64')\n",
    "\n",
    "#merge the two\n",
    "merged_df = pd.merge(mmiaID, tracker, on='Session_ID', how='inner')\n"
   ]
  },
  {
   "cell_type": "markdown",
   "metadata": {},
   "source": [
    "## Import RAW MMIA transcripts (first run pull_data_to_csv.py)"
   ]
  },
  {
   "cell_type": "code",
   "execution_count": 21,
   "metadata": {},
   "outputs": [],
   "source": [
    "#loop thru transcript files \n",
    "csv_directory='/Users/emilydoherty/Desktop/JIA/raw_mmia'\n",
    "output_csv_directory = '/Users/emilydoherty/Desktop/JIA/test'\n",
    "\n",
    "os.makedirs(output_csv_directory, exist_ok=True)\n",
    "for filename in os.listdir(csv_directory):\n",
    "    if filename.endswith(\".csv\"):\n",
    "        df = pd.read_csv(os.path.join(csv_directory, filename))\n",
    "        columns_to_drop = [\n",
    "            'chunk_link',\n",
    "            'asr_mode',\n",
    "            'sessionId',\n",
    "            'class_id',\n",
    "            'source',\n",
    "            'recording_start_date',\n",
    "            'chunk_start_date',\n",
    "            'amr',\n",
    "            'CoBi_Model']\n",
    "        #not sure what utterance_id is?\n",
    "        df.drop(columns_to_drop, axis=1, inplace=True)\n",
    "        # df.dropna(subset=['text'], inplace=True) #dont want to drop rows w/o text bc jia agent doesnt have text populated\n",
    "        df['new_timestamp'] = df['timestamp'].apply(convert_to_time_format)\n",
    "        recording_id = df['recordingId'].iloc[0]  # Get recording ID from the CSV file\n",
    "        \n",
    "        # Filter the rows based on KS_Start and BS_End for the specific recording ID\n",
    "        ks_start = merged_df.loc[merged_df['Recording_ID'] == recording_id, 'KS_START'].iloc[0]\n",
    "        bs_end = merged_df.loc[merged_df['Recording_ID'] == recording_id, 'BS_END'].iloc[0]\n",
    "        df = df[(df['new_timestamp'] >= ks_start) & (df['new_timestamp'] <= bs_end)]\n",
    "\n",
    "        # Save the filtered DataFrame back to the CSV file\n",
    "        output_filename = os.path.join(output_csv_directory, filename)\n",
    "        df.to_csv(output_filename, index=False)"
   ]
  }
 ],
 "metadata": {
  "kernelspec": {
   "display_name": "Python 3",
   "language": "python",
   "name": "python3"
  },
  "language_info": {
   "codemirror_mode": {
    "name": "ipython",
    "version": 3
   },
   "file_extension": ".py",
   "mimetype": "text/x-python",
   "name": "python",
   "nbconvert_exporter": "python",
   "pygments_lexer": "ipython3",
   "version": "3.11.4"
  }
 },
 "nbformat": 4,
 "nbformat_minor": 2
}
