{
 "cells": [
  {
   "cell_type": "markdown",
   "metadata": {},
   "source": [
    "## JIA MMIA recorder data   \n",
    "Emily Doherty 1/24/24\n"
   ]
  },
  {
   "cell_type": "code",
   "execution_count": 8,
   "metadata": {},
   "outputs": [],
   "source": [
    "import boto3\n",
    "import csv\n",
    "from boto3.dynamodb.conditions import Key"
   ]
  },
  {
   "cell_type": "code",
   "execution_count": 10,
   "metadata": {},
   "outputs": [],
   "source": [
    "#JIA Recording IDs \n",
    "# id_101= '6536f1073ad99b001d621789'\n",
    "# id_102='6574bfdeaf3da30029d45689'\n",
    "# id_103='657df804af3da30029d45851'\n",
    "# id_104='658376e0af3da30029d45b1d'\n",
    "# #no recording for session 105\n",
    "# id_106 ='65b556d91f687a00080c4509' #1/27/24\n",
    "# id_107 = '65be993add672200081feb25' #2/3/24\n",
    "# id_108 = '65c7cbfb4e4ea100089cee7f' #2/10/24\n",
    "# id_109 = '65caad157de66c00088c6056' #2/12/24 under ILDL studies class (idk why?)\n",
    "# id_110 = 65d5367d6b93ad0008b00d45"
   ]
  },
  {
   "cell_type": "code",
   "execution_count": 9,
   "metadata": {},
   "outputs": [
    {
     "name": "stdout",
     "output_type": "stream",
     "text": [
      "loading the dynamodb RecordingChunkMetrics table\n"
     ]
    }
   ],
   "source": [
    "dyn_resource=boto3.resource('dynamodb',region_name='us-east-1')\n",
    "\n",
    "aggregate_table_name ='RecordingChunkMetrics'\n",
    "\n",
    "print(f\"loading the dynamodb {aggregate_table_name} table\")\n",
    "aggregate_table=dyn_resource.Table(aggregate_table_name)\n"
   ]
  },
  {
   "cell_type": "code",
   "execution_count": 83,
   "metadata": {},
   "outputs": [
    {
     "name": "stdout",
     "output_type": "stream",
     "text": [
      "Modified CSV file 'modified_aggregate_data_6536f1073ad99b001d621789.csv' has been created.\n",
      "Modified CSV file 'modified_aggregate_data_6574bfdeaf3da30029d45689.csv' has been created.\n",
      "Modified CSV file 'modified_aggregate_data_657df804af3da30029d45851.csv' has been created.\n",
      "Modified CSV file 'modified_aggregate_data_658376e0af3da30029d45b1d.csv' has been created.\n",
      "Modified CSV file 'modified_aggregate_data_65b556d91f687a00080c4509.csv' has been created.\n",
      "Modified CSV file 'modified_aggregate_data_65be993add672200081feb25.csv' has been created.\n",
      "Modified CSV file 'modified_aggregate_data_65c7cbfb4e4ea100089cee7f.csv' has been created.\n",
      "Modified CSV file 'modified_aggregate_data_65caad157de66c00088c6056.csv' has been created.\n",
      "Modified CSV file 'modified_aggregate_data_65d5367d6b93ad0008b00d45.csv' has been created.\n"
     ]
    }
   ],
   "source": [
    "cd"
   ]
  },
  {
   "cell_type": "code",
   "execution_count": 78,
   "metadata": {},
   "outputs": [],
   "source": [
    "# print(type(items[1]['unique_speakers']))\n",
    "# print(type(items[1]['unique_speakers'][0])) #or 1 for two unique speakers \n",
    "\n",
    "\n",
    "x=(items[9]['unique_speakers'])\n",
    "\n"
   ]
  },
  {
   "cell_type": "markdown",
   "metadata": {},
   "source": [
    "## Count CPS codes per 30s chunk    "
   ]
  },
  {
   "cell_type": "code",
   "execution_count": null,
   "metadata": {},
   "outputs": [],
   "source": []
  }
 ],
 "metadata": {
  "kernelspec": {
   "display_name": "Python 3",
   "language": "python",
   "name": "python3"
  },
  "language_info": {
   "codemirror_mode": {
    "name": "ipython",
    "version": 3
   },
   "file_extension": ".py",
   "mimetype": "text/x-python",
   "name": "python",
   "nbconvert_exporter": "python",
   "pygments_lexer": "ipython3",
   "version": "3.11.4"
  }
 },
 "nbformat": 4,
 "nbformat_minor": 2
}
